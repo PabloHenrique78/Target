{
 "cells": [
  {
   "cell_type": "markdown",
   "metadata": {},
   "source": [
    "5) Escreva um programa que inverta os caracteres de um string.\n",
    "\n",
    "IMPORTANTE:\n",
    "a) Essa string pode ser informada através de qualquer entrada de sua preferência ou pode ser previamente definida no código;\n",
    "b) Evite usar funções prontas, como, por exemplo, reverse;"
   ]
  },
  {
   "cell_type": "code",
   "execution_count": 5,
   "metadata": {},
   "outputs": [
    {
     "name": "stdout",
     "output_type": "stream",
     "text": [
      "Texto normal: notebook\n",
      "Texto inverno: koobeton\n"
     ]
    }
   ],
   "source": [
    "texto = input('Qual palavra deseja inverter?')\n",
    "lista_texto = list(texto)\n",
    "i = 0\n",
    "f = len(lista_texto) - 1\n",
    "\n",
    "while(i < f):\n",
    "    lista_texto[i], lista_texto[f] = lista_texto[f], lista_texto[i]\n",
    "    i += 1\n",
    "    f -= 1\n",
    "\n",
    "texto_inverso = ''.join(lista_texto)\n",
    "print(f'Texto normal: {texto}\\nTexto inverno: {texto_inverso}')"
   ]
  }
 ],
 "metadata": {
  "kernelspec": {
   "display_name": "Python 3",
   "language": "python",
   "name": "python3"
  },
  "language_info": {
   "codemirror_mode": {
    "name": "ipython",
    "version": 3
   },
   "file_extension": ".py",
   "mimetype": "text/x-python",
   "name": "python",
   "nbconvert_exporter": "python",
   "pygments_lexer": "ipython3",
   "version": "3.12.4"
  }
 },
 "nbformat": 4,
 "nbformat_minor": 2
}
