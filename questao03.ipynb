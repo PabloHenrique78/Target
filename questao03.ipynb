{
 "cells": [
  {
   "cell_type": "markdown",
   "metadata": {},
   "source": [
    "3) Dado um vetor que guarda o valor de faturamento diário de uma distribuidora, faça um programa, na linguagem que desejar, que calcule e retorne:\n",
    "• O menor valor de faturamento ocorrido em um dia do mês;\n",
    "• O maior valor de faturamento ocorrido em um dia do mês;\n",
    "• Número de dias no mês em que o valor de faturamento diário foi superior à média mensal.\n",
    "\n",
    "IMPORTANTE:\n",
    "a) Usar o json ou xml disponível como fonte dos dados do faturamento mensal;\n",
    "b) Podem existir dias sem faturamento, como nos finais de semana e feriados. Estes dias devem ser ignorados no cálculo da média;"
   ]
  },
  {
   "cell_type": "code",
   "execution_count": 1,
   "metadata": {},
   "outputs": [],
   "source": [
    "import json"
   ]
  },
  {
   "cell_type": "code",
   "execution_count": null,
   "metadata": {},
   "outputs": [],
   "source": [
    "#estarei seguindo o exemplo de um arquivo JSON desta maneira:\n",
    "'''\n",
    "\"08_2024\": [\n",
    "            {\n",
    "            'dia': 1, 'faturamento': 200  \n",
    "            'dia': 2, 'faturamento': 0\n",
    "            'dia': 3, 'faturamento': 1200\n",
    "            'dia': 4, 'faturamento': 750\n",
    "              ...}\n",
    "              ]\n",
    " \n",
    " \n",
    " '''"
   ]
  },
  {
   "cell_type": "code",
   "execution_count": null,
   "metadata": {},
   "outputs": [],
   "source": [
    "#Abrindo o arquivo json ou xml\n",
    "caminho = 'faturamento_distribuidora.json'\n",
    "with open(caminho, 'r') as arquivo:\n",
    "    dados_faturamento = json.load(arquivo)\n",
    "\n",
    "faturamentos = []\n",
    "\n",
    "for dado in dados_faturamento['dias']:\n",
    "    if dado['faturamento'] > 0:\n",
    "        faturamentos.append(dado['faturamento'])\n",
    "\n",
    "\n",
    "if faturamentos:\n",
    "    #Encontrar o maior e menor faturamento, em seguida a media e por fim os dias acima da media \n",
    "    menor = faturamentos[0]\n",
    "    maior = faturamentos[0]\n",
    "\n",
    "    for faturamento in faturamentos:\n",
    "        if faturamento < menor:\n",
    "            menor = faturamento\n",
    "        if faturamento > maior:\n",
    "            maior = faturamento\n",
    "\n",
    "    soma = 0\n",
    "    for faturamento in faturamentos:\n",
    "        soma += faturamento\n",
    "\n",
    "    media = soma / len(faturamentos)\n",
    "\n",
    "    acima_media = 0\n",
    "    for faturamento in faturamentos:\n",
    "        if faturamento > media:\n",
    "            acima_media += 1\n",
    "\n",
    "    print(f\"Menor faturamento: R${menor}\\nMaior faturamento: R${maior}\\nDias com o faturamento acima da média: {acima_media}\")\n",
    "else:\n",
    "    print('Não há faturamentos válidos')"
   ]
  }
 ],
 "metadata": {
  "kernelspec": {
   "display_name": "Python 3",
   "language": "python",
   "name": "python3"
  },
  "language_info": {
   "codemirror_mode": {
    "name": "ipython",
    "version": 3
   },
   "file_extension": ".py",
   "mimetype": "text/x-python",
   "name": "python",
   "nbconvert_exporter": "python",
   "pygments_lexer": "ipython3",
   "version": "3.12.4"
  }
 },
 "nbformat": 4,
 "nbformat_minor": 2
}
