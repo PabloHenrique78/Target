{
 "cells": [
  {
   "cell_type": "markdown",
   "metadata": {},
   "source": [
    "Dado a sequência de Fibonacci, onde se inicia por 0 e 1 e o próximo valor sempre será a soma dos 2 valores anteriores (exemplo: 0, 1, 1, 2, 3, 5, 8, 13, 21, 34...), escreva um programa na linguagem que desejar onde, informado um número, ele calcule a sequência de Fibonacci e retorne uma mensagem avisando se o número informado pertence ou não a sequência.\n",
    "\n",
    "IMPORTANTE: Esse número pode ser informado através de qualquer entrada de sua preferência ou pode ser previamente definido no código;"
   ]
  },
  {
   "cell_type": "code",
   "execution_count": 6,
   "metadata": {},
   "outputs": [
    {
     "name": "stdout",
     "output_type": "stream",
     "text": [
      "Numero informado não faz parte da sequencia de Fibonacci\n"
     ]
    }
   ],
   "source": [
    "numero1 = 0\n",
    "numero2 = 1\n",
    "soma = 0\n",
    "\n",
    "procura_numero = int(input('Qual numero deseja buscar?'))\n",
    "\n",
    "while(numero2 < procura_numero):\n",
    "    soma = numero1 + numero2\n",
    "    numero1 = numero2\n",
    "    numero2 = soma\n",
    "if numero2 == procura_numero:\n",
    "    print(\"Numero informado faz parte da sequencia de Fibonacci\")\n",
    "else:\n",
    "    print(\"Numero informado não faz parte da sequencia de Fibonacci\")"
   ]
  }
 ],
 "metadata": {
  "kernelspec": {
   "display_name": "Python 3",
   "language": "python",
   "name": "python3"
  },
  "language_info": {
   "codemirror_mode": {
    "name": "ipython",
    "version": 3
   },
   "file_extension": ".py",
   "mimetype": "text/x-python",
   "name": "python",
   "nbconvert_exporter": "python",
   "pygments_lexer": "ipython3",
   "version": "3.12.4"
  }
 },
 "nbformat": 4,
 "nbformat_minor": 2
}
